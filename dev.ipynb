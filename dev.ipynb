{
 "cells": [
  {
   "cell_type": "markdown",
   "metadata": {},
   "source": [
    "# Spam email classification for the Enron spam email dataset\n",
    "## Notebook for experimenting with different Vectorizers and Classifiers"
   ]
  },
  {
   "cell_type": "code",
   "execution_count": 12,
   "metadata": {},
   "outputs": [
    {
     "name": "stdout",
     "output_type": "stream",
     "text": [
      "Requirement already satisfied: spacy in /opt/conda/lib/python3.7/site-packages (3.4.2)\n",
      "Requirement already satisfied: numpy>=1.15.0 in /opt/conda/lib/python3.7/site-packages (from spacy) (1.21.6)\n",
      "Requirement already satisfied: setuptools in /opt/conda/lib/python3.7/site-packages (from spacy) (59.3.0)\n",
      "Requirement already satisfied: pathy>=0.3.5 in /opt/conda/lib/python3.7/site-packages (from spacy) (0.6.2)\n",
      "Requirement already satisfied: tqdm<5.0.0,>=4.38.0 in /opt/conda/lib/python3.7/site-packages (from spacy) (4.42.1)\n",
      "Requirement already satisfied: spacy-legacy<3.1.0,>=3.0.10 in /opt/conda/lib/python3.7/site-packages (from spacy) (3.0.10)\n",
      "Requirement already satisfied: thinc<8.2.0,>=8.1.0 in /opt/conda/lib/python3.7/site-packages (from spacy) (8.1.5)\n",
      "Requirement already satisfied: spacy-loggers<2.0.0,>=1.0.0 in /opt/conda/lib/python3.7/site-packages (from spacy) (1.0.3)\n",
      "Requirement already satisfied: preshed<3.1.0,>=3.0.2 in /opt/conda/lib/python3.7/site-packages (from spacy) (3.0.8)\n",
      "Requirement already satisfied: requests<3.0.0,>=2.13.0 in /opt/conda/lib/python3.7/site-packages (from spacy) (2.28.1)\n",
      "Requirement already satisfied: typing-extensions<4.2.0,>=3.7.4 in /opt/conda/lib/python3.7/site-packages (from spacy) (4.1.1)\n",
      "Requirement already satisfied: murmurhash<1.1.0,>=0.28.0 in /opt/conda/lib/python3.7/site-packages (from spacy) (1.0.9)\n",
      "Requirement already satisfied: typer<0.5.0,>=0.3.0 in /opt/conda/lib/python3.7/site-packages (from spacy) (0.4.2)\n",
      "Requirement already satisfied: packaging>=20.0 in /opt/conda/lib/python3.7/site-packages (from spacy) (20.1)\n",
      "Requirement already satisfied: srsly<3.0.0,>=2.4.3 in /opt/conda/lib/python3.7/site-packages (from spacy) (2.4.5)\n",
      "Requirement already satisfied: langcodes<4.0.0,>=3.2.0 in /opt/conda/lib/python3.7/site-packages (from spacy) (3.3.0)\n",
      "Requirement already satisfied: cymem<2.1.0,>=2.0.2 in /opt/conda/lib/python3.7/site-packages (from spacy) (2.0.7)\n",
      "Requirement already satisfied: pydantic!=1.8,!=1.8.1,<1.11.0,>=1.7.4 in /opt/conda/lib/python3.7/site-packages (from spacy) (1.10.2)\n",
      "Requirement already satisfied: catalogue<2.1.0,>=2.0.6 in /opt/conda/lib/python3.7/site-packages (from spacy) (2.0.8)\n",
      "Requirement already satisfied: wasabi<1.1.0,>=0.9.1 in /opt/conda/lib/python3.7/site-packages (from spacy) (0.10.1)\n",
      "Requirement already satisfied: jinja2 in /opt/conda/lib/python3.7/site-packages (from spacy) (3.1.2)\n",
      "Requirement already satisfied: zipp>=0.5 in /opt/conda/lib/python3.7/site-packages (from catalogue<2.1.0,>=2.0.6->spacy) (3.8.1)\n",
      "Requirement already satisfied: pyparsing>=2.0.2 in /opt/conda/lib/python3.7/site-packages (from packaging>=20.0->spacy) (2.4.6)\n",
      "Requirement already satisfied: six in /opt/conda/lib/python3.7/site-packages (from packaging>=20.0->spacy) (1.14.0)\n",
      "Requirement already satisfied: smart-open<6.0.0,>=5.2.1 in /opt/conda/lib/python3.7/site-packages (from pathy>=0.3.5->spacy) (5.2.1)\n",
      "Requirement already satisfied: urllib3<1.27,>=1.21.1 in /opt/conda/lib/python3.7/site-packages (from requests<3.0.0,>=2.13.0->spacy) (1.26.12)\n",
      "Requirement already satisfied: certifi>=2017.4.17 in /opt/conda/lib/python3.7/site-packages (from requests<3.0.0,>=2.13.0->spacy) (2022.6.15)\n",
      "Requirement already satisfied: idna<4,>=2.5 in /opt/conda/lib/python3.7/site-packages (from requests<3.0.0,>=2.13.0->spacy) (2.8)\n",
      "Requirement already satisfied: charset-normalizer<3,>=2 in /opt/conda/lib/python3.7/site-packages (from requests<3.0.0,>=2.13.0->spacy) (2.0.4)\n",
      "Requirement already satisfied: confection<1.0.0,>=0.0.1 in /opt/conda/lib/python3.7/site-packages (from thinc<8.2.0,>=8.1.0->spacy) (0.0.3)\n",
      "Requirement already satisfied: blis<0.8.0,>=0.7.8 in /opt/conda/lib/python3.7/site-packages (from thinc<8.2.0,>=8.1.0->spacy) (0.7.9)\n",
      "Requirement already satisfied: click<9.0.0,>=7.1.1 in /opt/conda/lib/python3.7/site-packages (from typer<0.5.0,>=0.3.0->spacy) (8.1.3)\n",
      "Requirement already satisfied: MarkupSafe>=2.0 in /opt/conda/lib/python3.7/site-packages (from jinja2->spacy) (2.1.1)\n",
      "Requirement already satisfied: importlib-metadata in /opt/conda/lib/python3.7/site-packages (from click<9.0.0,>=7.1.1->typer<0.5.0,>=0.3.0->spacy) (4.12.0)\n",
      "\u001b[33mWARNING: Running pip as the 'root' user can result in broken permissions and conflicting behaviour with the system package manager. It is recommended to use a virtual environment instead: https://pip.pypa.io/warnings/venv\u001b[0m\u001b[33m\n",
      "\u001b[0m\n",
      "\u001b[1m[\u001b[0m\u001b[34;49mnotice\u001b[0m\u001b[1;39;49m]\u001b[0m\u001b[39;49m A new release of pip available: \u001b[0m\u001b[31;49m22.2.2\u001b[0m\u001b[39;49m -> \u001b[0m\u001b[32;49m22.3\u001b[0m\n",
      "\u001b[1m[\u001b[0m\u001b[34;49mnotice\u001b[0m\u001b[1;39;49m]\u001b[0m\u001b[39;49m To update, run: \u001b[0m\u001b[32;49mpip install --upgrade pip\u001b[0m\n",
      "Note: you may need to restart the kernel to use updated packages.\n",
      "Collecting en-core-web-lg==3.4.1\n",
      "  Downloading https://github.com/explosion/spacy-models/releases/download/en_core_web_lg-3.4.1/en_core_web_lg-3.4.1-py3-none-any.whl (587.7 MB)\n",
      "\u001b[2K     \u001b[90m━━━━━━━━━━━━━━━━━━━━━━━━━━━━━━━━━━━━━━━\u001b[0m \u001b[32m587.7/587.7 MB\u001b[0m \u001b[31m1.6 MB/s\u001b[0m eta \u001b[36m0:00:00\u001b[0m00:01\u001b[0m00:01\u001b[0m\n",
      "\u001b[?25hRequirement already satisfied: spacy<3.5.0,>=3.4.0 in /opt/conda/lib/python3.7/site-packages (from en-core-web-lg==3.4.1) (3.4.2)\n",
      "Requirement already satisfied: setuptools in /opt/conda/lib/python3.7/site-packages (from spacy<3.5.0,>=3.4.0->en-core-web-lg==3.4.1) (59.3.0)\n",
      "Requirement already satisfied: cymem<2.1.0,>=2.0.2 in /opt/conda/lib/python3.7/site-packages (from spacy<3.5.0,>=3.4.0->en-core-web-lg==3.4.1) (2.0.7)\n",
      "Requirement already satisfied: pydantic!=1.8,!=1.8.1,<1.11.0,>=1.7.4 in /opt/conda/lib/python3.7/site-packages (from spacy<3.5.0,>=3.4.0->en-core-web-lg==3.4.1) (1.10.2)\n",
      "Requirement already satisfied: typing-extensions<4.2.0,>=3.7.4 in /opt/conda/lib/python3.7/site-packages (from spacy<3.5.0,>=3.4.0->en-core-web-lg==3.4.1) (4.1.1)\n",
      "Requirement already satisfied: catalogue<2.1.0,>=2.0.6 in /opt/conda/lib/python3.7/site-packages (from spacy<3.5.0,>=3.4.0->en-core-web-lg==3.4.1) (2.0.8)\n",
      "Requirement already satisfied: thinc<8.2.0,>=8.1.0 in /opt/conda/lib/python3.7/site-packages (from spacy<3.5.0,>=3.4.0->en-core-web-lg==3.4.1) (8.1.5)\n",
      "Requirement already satisfied: requests<3.0.0,>=2.13.0 in /opt/conda/lib/python3.7/site-packages (from spacy<3.5.0,>=3.4.0->en-core-web-lg==3.4.1) (2.28.1)\n",
      "Requirement already satisfied: preshed<3.1.0,>=3.0.2 in /opt/conda/lib/python3.7/site-packages (from spacy<3.5.0,>=3.4.0->en-core-web-lg==3.4.1) (3.0.8)\n",
      "Requirement already satisfied: murmurhash<1.1.0,>=0.28.0 in /opt/conda/lib/python3.7/site-packages (from spacy<3.5.0,>=3.4.0->en-core-web-lg==3.4.1) (1.0.9)\n",
      "Requirement already satisfied: wasabi<1.1.0,>=0.9.1 in /opt/conda/lib/python3.7/site-packages (from spacy<3.5.0,>=3.4.0->en-core-web-lg==3.4.1) (0.10.1)\n",
      "Requirement already satisfied: typer<0.5.0,>=0.3.0 in /opt/conda/lib/python3.7/site-packages (from spacy<3.5.0,>=3.4.0->en-core-web-lg==3.4.1) (0.4.2)\n",
      "Requirement already satisfied: jinja2 in /opt/conda/lib/python3.7/site-packages (from spacy<3.5.0,>=3.4.0->en-core-web-lg==3.4.1) (3.1.2)\n",
      "Requirement already satisfied: spacy-legacy<3.1.0,>=3.0.10 in /opt/conda/lib/python3.7/site-packages (from spacy<3.5.0,>=3.4.0->en-core-web-lg==3.4.1) (3.0.10)\n",
      "Requirement already satisfied: numpy>=1.15.0 in /opt/conda/lib/python3.7/site-packages (from spacy<3.5.0,>=3.4.0->en-core-web-lg==3.4.1) (1.21.6)\n",
      "Requirement already satisfied: langcodes<4.0.0,>=3.2.0 in /opt/conda/lib/python3.7/site-packages (from spacy<3.5.0,>=3.4.0->en-core-web-lg==3.4.1) (3.3.0)\n",
      "Requirement already satisfied: srsly<3.0.0,>=2.4.3 in /opt/conda/lib/python3.7/site-packages (from spacy<3.5.0,>=3.4.0->en-core-web-lg==3.4.1) (2.4.5)\n",
      "Requirement already satisfied: tqdm<5.0.0,>=4.38.0 in /opt/conda/lib/python3.7/site-packages (from spacy<3.5.0,>=3.4.0->en-core-web-lg==3.4.1) (4.42.1)\n",
      "Requirement already satisfied: pathy>=0.3.5 in /opt/conda/lib/python3.7/site-packages (from spacy<3.5.0,>=3.4.0->en-core-web-lg==3.4.1) (0.6.2)\n",
      "Requirement already satisfied: packaging>=20.0 in /opt/conda/lib/python3.7/site-packages (from spacy<3.5.0,>=3.4.0->en-core-web-lg==3.4.1) (20.1)\n",
      "Requirement already satisfied: spacy-loggers<2.0.0,>=1.0.0 in /opt/conda/lib/python3.7/site-packages (from spacy<3.5.0,>=3.4.0->en-core-web-lg==3.4.1) (1.0.3)\n",
      "Requirement already satisfied: zipp>=0.5 in /opt/conda/lib/python3.7/site-packages (from catalogue<2.1.0,>=2.0.6->spacy<3.5.0,>=3.4.0->en-core-web-lg==3.4.1) (3.8.1)\n",
      "Requirement already satisfied: six in /opt/conda/lib/python3.7/site-packages (from packaging>=20.0->spacy<3.5.0,>=3.4.0->en-core-web-lg==3.4.1) (1.14.0)\n",
      "Requirement already satisfied: pyparsing>=2.0.2 in /opt/conda/lib/python3.7/site-packages (from packaging>=20.0->spacy<3.5.0,>=3.4.0->en-core-web-lg==3.4.1) (2.4.6)\n",
      "Requirement already satisfied: smart-open<6.0.0,>=5.2.1 in /opt/conda/lib/python3.7/site-packages (from pathy>=0.3.5->spacy<3.5.0,>=3.4.0->en-core-web-lg==3.4.1) (5.2.1)\n",
      "Requirement already satisfied: urllib3<1.27,>=1.21.1 in /opt/conda/lib/python3.7/site-packages (from requests<3.0.0,>=2.13.0->spacy<3.5.0,>=3.4.0->en-core-web-lg==3.4.1) (1.26.12)\n",
      "Requirement already satisfied: charset-normalizer<3,>=2 in /opt/conda/lib/python3.7/site-packages (from requests<3.0.0,>=2.13.0->spacy<3.5.0,>=3.4.0->en-core-web-lg==3.4.1) (2.0.4)\n",
      "Requirement already satisfied: idna<4,>=2.5 in /opt/conda/lib/python3.7/site-packages (from requests<3.0.0,>=2.13.0->spacy<3.5.0,>=3.4.0->en-core-web-lg==3.4.1) (2.8)\n",
      "Requirement already satisfied: certifi>=2017.4.17 in /opt/conda/lib/python3.7/site-packages (from requests<3.0.0,>=2.13.0->spacy<3.5.0,>=3.4.0->en-core-web-lg==3.4.1) (2022.6.15)\n",
      "Requirement already satisfied: confection<1.0.0,>=0.0.1 in /opt/conda/lib/python3.7/site-packages (from thinc<8.2.0,>=8.1.0->spacy<3.5.0,>=3.4.0->en-core-web-lg==3.4.1) (0.0.3)\n",
      "Requirement already satisfied: blis<0.8.0,>=0.7.8 in /opt/conda/lib/python3.7/site-packages (from thinc<8.2.0,>=8.1.0->spacy<3.5.0,>=3.4.0->en-core-web-lg==3.4.1) (0.7.9)\n",
      "Requirement already satisfied: click<9.0.0,>=7.1.1 in /opt/conda/lib/python3.7/site-packages (from typer<0.5.0,>=0.3.0->spacy<3.5.0,>=3.4.0->en-core-web-lg==3.4.1) (8.1.3)\n",
      "Requirement already satisfied: MarkupSafe>=2.0 in /opt/conda/lib/python3.7/site-packages (from jinja2->spacy<3.5.0,>=3.4.0->en-core-web-lg==3.4.1) (2.1.1)\n",
      "Requirement already satisfied: importlib-metadata in /opt/conda/lib/python3.7/site-packages (from click<9.0.0,>=7.1.1->typer<0.5.0,>=0.3.0->spacy<3.5.0,>=3.4.0->en-core-web-lg==3.4.1) (4.12.0)\n",
      "\u001b[33mWARNING: Running pip as the 'root' user can result in broken permissions and conflicting behaviour with the system package manager. It is recommended to use a virtual environment instead: https://pip.pypa.io/warnings/venv\u001b[0m\u001b[33m\n",
      "\u001b[0m\n",
      "\u001b[1m[\u001b[0m\u001b[34;49mnotice\u001b[0m\u001b[1;39;49m]\u001b[0m\u001b[39;49m A new release of pip available: \u001b[0m\u001b[31;49m22.2.2\u001b[0m\u001b[39;49m -> \u001b[0m\u001b[32;49m22.3\u001b[0m\n",
      "\u001b[1m[\u001b[0m\u001b[34;49mnotice\u001b[0m\u001b[1;39;49m]\u001b[0m\u001b[39;49m To update, run: \u001b[0m\u001b[32;49mpip install --upgrade pip\u001b[0m\n",
      "\u001b[38;5;2m✔ Download and installation successful\u001b[0m\n",
      "You can now load the package via spacy.load('en_core_web_lg')\n"
     ]
    }
   ],
   "source": [
    "%pip install spacy\n",
    "\n",
    "import boto3\n",
    "import os\n",
    "from pathlib import Path\n",
    "import numpy as np\n",
    "import pandas as pd\n",
    "import re\n",
    "import spacy\n",
    "!python -m spacy download en_core_web_lg\n",
    "nlp = spacy.load(\"en_core_web_lg\")\n",
    "\n",
    "from sklearn.datasets import load_files\n",
    "from sklearn.model_selection import train_test_split\n",
    "from sklearn.feature_extraction.text import CountVectorizer\n",
    "from sklearn.feature_extraction.text import TfidfVectorizer\n",
    "from sklearn.naive_bayes import MultinomialNB\n",
    "from sklearn.metrics import classification_report\n",
    "from sklearn.metrics import confusion_matrix\n",
    "from sklearn.neighbors import KNeighborsClassifier\n",
    "from sklearn.ensemble import RandomForestClassifier\n",
    "from sklearn.preprocessing import MinMaxScaler\n",
    "from sklearn.pipeline import Pipeline\n",
    "\n",
    "from matplotlib import pyplot as plt\n",
    "import seaborn as sn\n",
    "\n",
    "from datetime import datetime"
   ]
  },
  {
   "cell_type": "code",
   "execution_count": 13,
   "metadata": {},
   "outputs": [
    {
     "name": "stdout",
     "output_type": "stream",
     "text": [
      "/data/raw\n"
     ]
    }
   ],
   "source": [
    "region = boto3.Session().region_name\n",
    "s3_client = boto3.client('s3')\n",
    "\n",
    "spam_ham_raw_data = Path('/data/raw/')\n",
    "print(spam_ham_raw_data)"
   ]
  },
  {
   "cell_type": "code",
   "execution_count": 14,
   "metadata": {},
   "outputs": [],
   "source": [
    "def download_dir(prefix, local, bucket, client=s3_client):\n",
    "    \"\"\"\n",
    "    params:\n",
    "    - prefix: pattern to match in s3\n",
    "    - local: local path to folder in which to place files\n",
    "    - bucket: s3 bucket with target contents\n",
    "    - client: initialized s3 client object\n",
    "    \"\"\"\n",
    "    keys = []\n",
    "    dirs = []\n",
    "    next_token = ''\n",
    "    base_kwargs = {\n",
    "        'Bucket':bucket,\n",
    "        'Prefix':prefix,\n",
    "    }\n",
    "    while next_token is not None:\n",
    "        kwargs = base_kwargs.copy()\n",
    "        if next_token != '':\n",
    "            kwargs.update({'ContinuationToken': next_token})\n",
    "        results = client.list_objects_v2(**kwargs)\n",
    "        contents = results.get('Contents')\n",
    "        for i in contents:\n",
    "            k = i.get('Key')\n",
    "            if k[-1] != '/':\n",
    "                keys.append(k)\n",
    "            else:\n",
    "                dirs.append(k)\n",
    "        next_token = results.get('NextContinuationToken')\n",
    "    for d in dirs:\n",
    "        dest_pathname = os.path.join(local, d)\n",
    "        if not os.path.exists(os.path.dirname(dest_pathname)):\n",
    "            print(\"inside if\")\n",
    "            os.makedirs(os.path.dirname(dest_pathname))\n",
    "    for k in keys:\n",
    "        dest_pathname = os.path.join(local, k)\n",
    "        if not os.path.exists(os.path.dirname(dest_pathname)):\n",
    "            os.makedirs(os.path.dirname(dest_pathname))\n",
    "        client.download_file(bucket, k, dest_pathname)"
   ]
  },
  {
   "cell_type": "code",
   "execution_count": 42,
   "metadata": {},
   "outputs": [
    {
     "name": "stdout",
     "output_type": "stream",
     "text": [
      "done\n"
     ]
    }
   ],
   "source": [
    "#download_dir(prefix, local, bucket, client=s3_client)\n",
    "#download_dir(\"junk\",\"/data/raw/\",\"nikhil-spam-ham\",s3_client)\n",
    "#download_dir(\"data/enron1/spam\",\"/root/data/raw/\",\"nikhil-spam-ham\",s3_client)\n",
    "download_dir(\"data\",\"/root/raw_data/\",\"nikhil-spam-ham\",s3_client)\n",
    "print(\"done\")"
   ]
  },
  {
   "cell_type": "code",
   "execution_count": 16,
   "metadata": {},
   "outputs": [
    {
     "name": "stdout",
     "output_type": "stream",
     "text": [
      "Started loading: test - 20221027-192123\n",
      "Completed loading: test - 20221027-192123\n",
      "Started loading: enron6 - 20221027-192123\n",
      "Completed loading: enron6 - 20221027-192128\n",
      "Started loading: enron2 - 20221027-192128\n",
      "Completed loading: enron2 - 20221027-192134\n",
      "Started loading: enron4 - 20221027-192134\n",
      "Completed loading: enron4 - 20221027-192140\n",
      "Started loading: train - 20221027-192140\n",
      "Completed loading: train - 20221027-192141\n",
      "Started loading: enron3 - 20221027-192141\n",
      "Completed loading: enron3 - 20221027-192148\n",
      "Started loading: enron1 - 20221027-192148\n",
      "Completed loading: enron1 - 20221027-192155\n",
      "Started loading: validation - 20221027-192155\n",
      "Completed loading: validation - 20221027-192157\n",
      "Started loading: enron5 - 20221027-192157\n",
      "Completed loading: enron5 - 20221027-192205\n",
      "done\n"
     ]
    }
   ],
   "source": [
    "#print(os.listdir(\"/root/raw_data/data/\"))\n",
    "#todo path hardcoded\n",
    "\n",
    "raw_data_path = \"/root/raw_data/data/\"\n",
    "\n",
    "X, y = [], []\n",
    "for subDirectory in os.listdir(raw_data_path):\n",
    "    subDirectoryPath = Path(os.path.join(raw_data_path, subDirectory))\n",
    "    if subDirectoryPath.is_dir():\n",
    "        print(\"Started loading: \" + subDirectory + \" - \"+datetime.now().strftime(\"%Y%m%d-%H%M%S\"))\n",
    "        #https://scikit-learn.org/stable/modules/generated/sklearn.datasets.load_files.html\n",
    "        all_data = load_files(os.path.join(raw_data_path, subDirectory))\n",
    "        X = np.append(X, all_data.data)\n",
    "        y = np.append(y, all_data.target)\n",
    "        print(\"Completed loading: \" + subDirectory + \" - \"+datetime.now().strftime(\"%Y%m%d-%H%M%S\"))\n",
    "print(\"done\")\n"
   ]
  },
  {
   "cell_type": "code",
   "execution_count": 18,
   "metadata": {},
   "outputs": [],
   "source": [
    "#emails = pd.DataFrame(columns=['label', 'label_name', 'text', 'file_name'])\n",
    "emails = pd.DataFrame(columns=['spam', 'category', 'message'])\n",
    "emails['spam'] = [y for y in y]\n",
    "emails['category'] = emails.apply (lambda row: 'ham' if row.spam == 0 else 'spam', axis=1)\n",
    "#emails['category'] = emails['spam'].map({'ham':0, 'spam': 1})\n",
    "emails['message'] = [x for x in X]"
   ]
  },
  {
   "cell_type": "code",
   "execution_count": 46,
   "metadata": {},
   "outputs": [
    {
     "data": {
      "text/html": [
       "<div>\n",
       "<style scoped>\n",
       "    .dataframe tbody tr th:only-of-type {\n",
       "        vertical-align: middle;\n",
       "    }\n",
       "\n",
       "    .dataframe tbody tr th {\n",
       "        vertical-align: top;\n",
       "    }\n",
       "\n",
       "    .dataframe thead th {\n",
       "        text-align: right;\n",
       "    }\n",
       "</style>\n",
       "<table border=\"1\" class=\"dataframe\">\n",
       "  <thead>\n",
       "    <tr style=\"text-align: right;\">\n",
       "      <th></th>\n",
       "      <th>spam</th>\n",
       "      <th>category</th>\n",
       "      <th>message</th>\n",
       "      <th>message_preprocessed</th>\n",
       "      <th>vector</th>\n",
       "    </tr>\n",
       "  </thead>\n",
       "  <tbody>\n",
       "    <tr>\n",
       "      <th>0</th>\n",
       "      <td>1.0</td>\n",
       "      <td>spam</td>\n",
       "      <td>b'Subject: happened mlcros 0 ft , symanntec , ...</td>\n",
       "      <td>subject happen mlcros 0 ft symanntec macromedi...</td>\n",
       "      <td>[-0.93643135, -0.72902673, -2.809265, 0.397983...</td>\n",
       "    </tr>\n",
       "    <tr>\n",
       "      <th>1</th>\n",
       "      <td>1.0</td>\n",
       "      <td>spam</td>\n",
       "      <td>b\"Subject: hot sale on all win xp products at ...</td>\n",
       "      <td>subject hot sale win xp product ellen s softsh...</td>\n",
       "      <td>[-0.8308051, -2.2618515, -1.1251718, 1.477813,...</td>\n",
       "    </tr>\n",
       "    <tr>\n",
       "      <th>2</th>\n",
       "      <td>1.0</td>\n",
       "      <td>spam</td>\n",
       "      <td>b'Subject: gasms for men\\r\\n\" my girlfriend an...</td>\n",
       "      <td>subject gasm man girlfriend enjoy make homemad...</td>\n",
       "      <td>[-0.6068439, 0.22185293, -2.5021734, -0.984214...</td>\n",
       "    </tr>\n",
       "    <tr>\n",
       "      <th>3</th>\n",
       "      <td>0.0</td>\n",
       "      <td>ham</td>\n",
       "      <td>b'Subject: re : eog pronghorn location\\r\\nto a...</td>\n",
       "      <td>subject eog pronghorn location aggressive c pe...</td>\n",
       "      <td>[-0.91404605, -0.13957796, -1.8296554, -0.3845...</td>\n",
       "    </tr>\n",
       "    <tr>\n",
       "      <th>4</th>\n",
       "      <td>0.0</td>\n",
       "      <td>ham</td>\n",
       "      <td>b\"Subject: transwestern capacity release repor...</td>\n",
       "      <td>subject transwestern capacity release report p...</td>\n",
       "      <td>[-0.36561504, -1.360887, -0.4424557, 1.2195764...</td>\n",
       "    </tr>\n",
       "  </tbody>\n",
       "</table>\n",
       "</div>"
      ],
      "text/plain": [
       "   spam category                                            message  \\\n",
       "0   1.0     spam  b'Subject: happened mlcros 0 ft , symanntec , ...   \n",
       "1   1.0     spam  b\"Subject: hot sale on all win xp products at ...   \n",
       "2   1.0     spam  b'Subject: gasms for men\\r\\n\" my girlfriend an...   \n",
       "3   0.0      ham  b'Subject: re : eog pronghorn location\\r\\nto a...   \n",
       "4   0.0      ham  b\"Subject: transwestern capacity release repor...   \n",
       "\n",
       "                                message_preprocessed  \\\n",
       "0  subject happen mlcros 0 ft symanntec macromedi...   \n",
       "1  subject hot sale win xp product ellen s softsh...   \n",
       "2  subject gasm man girlfriend enjoy make homemad...   \n",
       "3  subject eog pronghorn location aggressive c pe...   \n",
       "4  subject transwestern capacity release report p...   \n",
       "\n",
       "                                              vector  \n",
       "0  [-0.93643135, -0.72902673, -2.809265, 0.397983...  \n",
       "1  [-0.8308051, -2.2618515, -1.1251718, 1.477813,...  \n",
       "2  [-0.6068439, 0.22185293, -2.5021734, -0.984214...  \n",
       "3  [-0.91404605, -0.13957796, -1.8296554, -0.3845...  \n",
       "4  [-0.36561504, -1.360887, -0.4424557, 1.2195764...  "
      ]
     },
     "execution_count": 46,
     "metadata": {},
     "output_type": "execute_result"
    }
   ],
   "source": [
    "#emails.infer_objects()\n",
    "emails['category'].value_counts()\n",
    "emails.head()"
   ]
  },
  {
   "cell_type": "code",
   "execution_count": 20,
   "metadata": {},
   "outputs": [],
   "source": [
    "def preprocess_email_text(email_text):\n",
    "\n",
    "    #Remove leading b and new lines\n",
    "    email_text = re.sub(r'^b', '', email_text)  \n",
    "    email_text = re.sub(r'\\\\r\\\\n', ' ', email_text)\n",
    "\n",
    "    #Remove stop words, punctuations and lemmetize\n",
    "    filtered_tokens = []\n",
    "    doc = nlp(email_text)\n",
    "    for token in doc:\n",
    "        if not (token.is_stop or token.is_punct):\n",
    "            filtered_tokens.append(token.lemma_)\n",
    "    return \" \".join(filtered_tokens)"
   ]
  },
  {
   "cell_type": "code",
   "execution_count": 21,
   "metadata": {},
   "outputs": [],
   "source": [
    "emails[\"message_preprocessed\"] = \"\"\n",
    "emails.astype({'message_preprocessed': 'string'}).dtypes\n",
    "emails[\"message_preprocessed\"] = emails[\"message\"].apply(lambda text: preprocess_email_text(str(text)))\n",
    "#emails[\"vector\"] = emails[\"message_preprocessed\"].apply(lambda text: nlp(text).vector)"
   ]
  },
  {
   "cell_type": "code",
   "execution_count": 22,
   "metadata": {},
   "outputs": [
    {
     "data": {
      "text/html": [
       "<div>\n",
       "<style scoped>\n",
       "    .dataframe tbody tr th:only-of-type {\n",
       "        vertical-align: middle;\n",
       "    }\n",
       "\n",
       "    .dataframe tbody tr th {\n",
       "        vertical-align: top;\n",
       "    }\n",
       "\n",
       "    .dataframe thead th {\n",
       "        text-align: right;\n",
       "    }\n",
       "</style>\n",
       "<table border=\"1\" class=\"dataframe\">\n",
       "  <thead>\n",
       "    <tr style=\"text-align: right;\">\n",
       "      <th></th>\n",
       "      <th>spam</th>\n",
       "      <th>category</th>\n",
       "      <th>message</th>\n",
       "      <th>message_preprocessed</th>\n",
       "    </tr>\n",
       "  </thead>\n",
       "  <tbody>\n",
       "    <tr>\n",
       "      <th>0</th>\n",
       "      <td>1.0</td>\n",
       "      <td>spam</td>\n",
       "      <td>b'Subject: happened mlcros 0 ft , symanntec , ...</td>\n",
       "      <td>subject happen mlcros 0 ft symanntec macromedi...</td>\n",
       "    </tr>\n",
       "    <tr>\n",
       "      <th>1</th>\n",
       "      <td>1.0</td>\n",
       "      <td>spam</td>\n",
       "      <td>b\"Subject: hot sale on all win xp products at ...</td>\n",
       "      <td>subject hot sale win xp product ellen s softsh...</td>\n",
       "    </tr>\n",
       "    <tr>\n",
       "      <th>2</th>\n",
       "      <td>1.0</td>\n",
       "      <td>spam</td>\n",
       "      <td>b'Subject: gasms for men\\r\\n\" my girlfriend an...</td>\n",
       "      <td>subject gasm man girlfriend enjoy make homemad...</td>\n",
       "    </tr>\n",
       "    <tr>\n",
       "      <th>3</th>\n",
       "      <td>0.0</td>\n",
       "      <td>ham</td>\n",
       "      <td>b'Subject: re : eog pronghorn location\\r\\nto a...</td>\n",
       "      <td>subject eog pronghorn location aggressive c pe...</td>\n",
       "    </tr>\n",
       "    <tr>\n",
       "      <th>4</th>\n",
       "      <td>0.0</td>\n",
       "      <td>ham</td>\n",
       "      <td>b\"Subject: transwestern capacity release repor...</td>\n",
       "      <td>subject transwestern capacity release report p...</td>\n",
       "    </tr>\n",
       "    <tr>\n",
       "      <th>...</th>\n",
       "      <td>...</td>\n",
       "      <td>...</td>\n",
       "      <td>...</td>\n",
       "      <td>...</td>\n",
       "    </tr>\n",
       "    <tr>\n",
       "      <th>33711</th>\n",
       "      <td>1.0</td>\n",
       "      <td>spam</td>\n",
       "      <td>b\"Subject: upw presents : meltdown - wednesday...</td>\n",
       "      <td>subject upw present meltdown wednesday july 20...</td>\n",
       "    </tr>\n",
       "    <tr>\n",
       "      <th>33712</th>\n",
       "      <td>1.0</td>\n",
       "      <td>spam</td>\n",
       "      <td>b\"Subject: get a head start on a new computer ...</td>\n",
       "      <td>subject head start new computer career focus o...</td>\n",
       "    </tr>\n",
       "    <tr>\n",
       "      <th>33713</th>\n",
       "      <td>1.0</td>\n",
       "      <td>spam</td>\n",
       "      <td>b'Subject: legal advice for only pennies\\r\\nfi...</td>\n",
       "      <td>subject legal advice penny fix bad credit simp...</td>\n",
       "    </tr>\n",
       "    <tr>\n",
       "      <th>33714</th>\n",
       "      <td>1.0</td>\n",
       "      <td>spam</td>\n",
       "      <td>b'Subject: claim your home depot gift card - a...</td>\n",
       "      <td>subject claim home depot gift card $ 500 value...</td>\n",
       "    </tr>\n",
       "    <tr>\n",
       "      <th>33715</th>\n",
       "      <td>1.0</td>\n",
       "      <td>spam</td>\n",
       "      <td>b'Subject: high - quality affordable logos\\r\\n...</td>\n",
       "      <td>subject high quality affordable logo corporate...</td>\n",
       "    </tr>\n",
       "  </tbody>\n",
       "</table>\n",
       "<p>33716 rows × 4 columns</p>\n",
       "</div>"
      ],
      "text/plain": [
       "       spam category                                            message  \\\n",
       "0       1.0     spam  b'Subject: happened mlcros 0 ft , symanntec , ...   \n",
       "1       1.0     spam  b\"Subject: hot sale on all win xp products at ...   \n",
       "2       1.0     spam  b'Subject: gasms for men\\r\\n\" my girlfriend an...   \n",
       "3       0.0      ham  b'Subject: re : eog pronghorn location\\r\\nto a...   \n",
       "4       0.0      ham  b\"Subject: transwestern capacity release repor...   \n",
       "...     ...      ...                                                ...   \n",
       "33711   1.0     spam  b\"Subject: upw presents : meltdown - wednesday...   \n",
       "33712   1.0     spam  b\"Subject: get a head start on a new computer ...   \n",
       "33713   1.0     spam  b'Subject: legal advice for only pennies\\r\\nfi...   \n",
       "33714   1.0     spam  b'Subject: claim your home depot gift card - a...   \n",
       "33715   1.0     spam  b'Subject: high - quality affordable logos\\r\\n...   \n",
       "\n",
       "                                    message_preprocessed  \n",
       "0      subject happen mlcros 0 ft symanntec macromedi...  \n",
       "1      subject hot sale win xp product ellen s softsh...  \n",
       "2      subject gasm man girlfriend enjoy make homemad...  \n",
       "3      subject eog pronghorn location aggressive c pe...  \n",
       "4      subject transwestern capacity release report p...  \n",
       "...                                                  ...  \n",
       "33711  subject upw present meltdown wednesday july 20...  \n",
       "33712  subject head start new computer career focus o...  \n",
       "33713  subject legal advice penny fix bad credit simp...  \n",
       "33714  subject claim home depot gift card $ 500 value...  \n",
       "33715  subject high quality affordable logo corporate...  \n",
       "\n",
       "[33716 rows x 4 columns]"
      ]
     },
     "execution_count": 22,
     "metadata": {},
     "output_type": "execute_result"
    }
   ],
   "source": [
    "emails.infer_objects()\n",
    "#emails.shape"
   ]
  },
  {
   "cell_type": "code",
   "execution_count": 23,
   "metadata": {},
   "outputs": [],
   "source": [
    "#https://pandas.pydata.org/docs/reference/api/pandas.DataFrame.to_csv.html\n",
    "emails_in_csv = Path('/root/raw_data/data/emails_preprocessed.csv')  \n",
    "emails_in_csv.parent.mkdir(parents=True, exist_ok=True)  \n",
    "emails.to_csv(emails_in_csv)"
   ]
  },
  {
   "cell_type": "code",
   "execution_count": 24,
   "metadata": {},
   "outputs": [],
   "source": [
    "# test_emails = [\"enhance communication among risk management operations professionals\", \"get your free adware scan and removal download now \"]\n",
    "# test_emails_cv = v.transform(emails_testing)\n",
    "# y_pred = model.predict(test_emails_cv)"
   ]
  },
  {
   "cell_type": "markdown",
   "metadata": {},
   "source": [
    "## Using BOW CountVectorizer and Multinomial Naive based classifier"
   ]
  },
  {
   "cell_type": "code",
   "execution_count": 27,
   "metadata": {},
   "outputs": [
    {
     "name": "stdout",
     "output_type": "stream",
     "text": [
      "              precision    recall  f1-score   support\n",
      "\n",
      "         ham       0.98      0.99      0.99      4117\n",
      "        spam       0.99      0.98      0.99      4312\n",
      "\n",
      "    accuracy                           0.99      8429\n",
      "   macro avg       0.99      0.99      0.99      8429\n",
      "weighted avg       0.99      0.99      0.99      8429\n",
      "\n"
     ]
    },
    {
     "data": {
      "image/png": "[encoded data removed]",
      "text/plain": [
       "<Figure size 1000x700 with 2 Axes>"
      ]
     },
     "metadata": {},
     "output_type": "display_data"
    }
   ],
   "source": [
    "from sklearn.pipeline import Pipeline\n",
    "X_train, X_test, y_train, y_test = train_test_split(\n",
    "    emails[\"message_preprocessed\"],\n",
    "    emails[\"spam\"], \n",
    "    test_size=0.25,\n",
    "    random_state=2022\n",
    ")\n",
    "\n",
    "pipeline_classifier = Pipeline([\n",
    "    ('vectorizer', CountVectorizer()),\n",
    "    ('nb', MultinomialNB())\n",
    "])\n",
    "\n",
    "pipeline_classifier.fit(X_train, y_train)\n",
    "pipeline_classifier.score(X_test, y_test)\n",
    "y_pred=pipeline_classifier.predict(X_test)\n",
    "\n",
    "print(classification_report(y_test, y_pred, target_names=['ham','spam']))\n",
    "#X_test_count.toarray()[:5]\n",
    "#model.score(y_test, y_pred)\n",
    "#X_train_count.toarray()[:3]\n",
    "#X_train_count[0]\n",
    "\n",
    "cm = confusion_matrix(y_test, y_pred)\n",
    "plt.figure(figsize = (10,7))\n",
    "sn.heatmap(cm, annot=True, fmt='d').set(title='Multinomial unigram')\n",
    "plt.xlabel('Prediction')\n",
    "plt.ylabel('Truth')\n",
    "plt.show()"
   ]
  },
  {
   "cell_type": "markdown",
   "metadata": {},
   "source": [
    "## Using 1 gram and 2 gram BOW CountVectorizer and Multinomial Naive based classifier"
   ]
  },
  {
   "cell_type": "code",
   "execution_count": 28,
   "metadata": {},
   "outputs": [
    {
     "name": "stdout",
     "output_type": "stream",
     "text": [
      "              precision    recall  f1-score   support\n",
      "\n",
      "         ham       0.99      0.99      0.99      4117\n",
      "        spam       0.99      0.99      0.99      4312\n",
      "\n",
      "    accuracy                           0.99      8429\n",
      "   macro avg       0.99      0.99      0.99      8429\n",
      "weighted avg       0.99      0.99      0.99      8429\n",
      "\n"
     ]
    },
    {
     "data": {
      "image/png": "[encoded data removed]",
      "text/plain": [
       "<Figure size 1000x700 with 2 Axes>"
      ]
     },
     "metadata": {},
     "output_type": "display_data"
    }
   ],
   "source": [
    "pipeline_classifier_ngram_2 = Pipeline([\n",
    "    ('vectorizer', CountVectorizer(ngram_range = (1, 2))),\n",
    "    ('nb', MultinomialNB())\n",
    "])\n",
    "\n",
    "pipeline_classifier_ngram_2.fit(X_train, y_train)\n",
    "pipeline_classifier_ngram_2.score(X_test, y_test)\n",
    "y_pred=pipeline_classifier_ngram_2.predict(X_test)\n",
    "\n",
    "print(classification_report(y_test, y_pred, target_names=['ham','spam']))\n",
    "#X_test_count.toarray()[:5]\n",
    "#model.score(y_test, y_pred)\n",
    "\n",
    "#X_train_count.toarray()[:3]\n",
    "#X_train_count[0]\n",
    "\n",
    "cm = confusion_matrix(y_test, y_pred)\n",
    "plt.figure(figsize = (10,7))\n",
    "sn.heatmap(cm, annot=True, fmt='d').set(title='Multinomial unigrams and bigrams')\n",
    "plt.xlabel('Prediction')\n",
    "plt.ylabel('Truth')\n",
    "plt.show()"
   ]
  },
  {
   "cell_type": "code",
   "execution_count": 29,
   "metadata": {},
   "outputs": [
    {
     "data": {
      "text/plain": [
       "spam    17171\n",
       "ham     16545\n",
       "Name: category, dtype: int64"
      ]
     },
     "execution_count": 29,
     "metadata": {},
     "output_type": "execute_result"
    }
   ],
   "source": [
    "emails['category'].value_counts()"
   ]
  },
  {
   "cell_type": "markdown",
   "metadata": {},
   "source": [
    "## Using TF-IDF CountVectorizer and KNeighbors classifier"
   ]
  },
  {
   "cell_type": "code",
   "execution_count": 30,
   "metadata": {},
   "outputs": [
    {
     "name": "stdout",
     "output_type": "stream",
     "text": [
      "              precision    recall  f1-score   support\n",
      "\n",
      "         ham       0.96      0.98      0.97      4117\n",
      "        spam       0.98      0.96      0.97      4312\n",
      "\n",
      "    accuracy                           0.97      8429\n",
      "   macro avg       0.97      0.97      0.97      8429\n",
      "weighted avg       0.97      0.97      0.97      8429\n",
      "\n"
     ]
    },
    {
     "data": {
      "image/png": "[encoded data removed]",
      "text/plain": [
       "<Figure size 1000x700 with 2 Axes>"
      ]
     },
     "metadata": {},
     "output_type": "display_data"
    }
   ],
   "source": [
    "v = TfidfVectorizer()\n",
    "X_train_cv = v.fit_transform(X_train.values)\n",
    "\n",
    "KN_classifier = Pipeline([\n",
    "    ('vectorizer_tfidf', TfidfVectorizer()),\n",
    "    ('KNN', KNeighborsClassifier())\n",
    "])\n",
    "\n",
    "\n",
    "KN_classifier.fit(X_train, y_train)\n",
    "KN_classifier.score(X_test, y_test)\n",
    "y_pred=KN_classifier.predict(X_test)\n",
    "\n",
    "print(classification_report(y_test, y_pred, target_names=['ham','spam']))\n",
    "\n",
    "cm = confusion_matrix(y_test, y_pred)\n",
    "plt.figure(figsize = (10,7))\n",
    "sn.heatmap(cm, annot=True, fmt='d').set(title='TFID and KNN')\n",
    "plt.xlabel('Prediction')\n",
    "plt.ylabel('Truth')\n",
    "plt.show()"
   ]
  },
  {
   "cell_type": "markdown",
   "metadata": {},
   "source": [
    "## Using TF-IDF CountVectorizer and Multinomial classifier"
   ]
  },
  {
   "cell_type": "code",
   "execution_count": 31,
   "metadata": {},
   "outputs": [
    {
     "name": "stdout",
     "output_type": "stream",
     "text": [
      "              precision    recall  f1-score   support\n",
      "\n",
      "         ham       0.99      0.99      0.99      4117\n",
      "        spam       0.99      0.99      0.99      4312\n",
      "\n",
      "    accuracy                           0.99      8429\n",
      "   macro avg       0.99      0.99      0.99      8429\n",
      "weighted avg       0.99      0.99      0.99      8429\n",
      "\n"
     ]
    },
    {
     "data": {
      "image/png": "[encoded data removed]",
      "text/plain": [
       "<Figure size 1000x700 with 2 Axes>"
      ]
     },
     "metadata": {},
     "output_type": "display_data"
    }
   ],
   "source": [
    "MNB_classifier = Pipeline([\n",
    "    ('vectorizer_tfidf', TfidfVectorizer()),\n",
    "    ('nb', MultinomialNB())\n",
    "])\n",
    "\n",
    "\n",
    "MNB_classifier.fit(X_train, y_train)\n",
    "MNB_classifier.score(X_test, y_test)\n",
    "y_pred=MNB_classifier.predict(X_test)\n",
    "\n",
    "print(classification_report(y_test, y_pred, target_names=['ham','spam']))\n",
    "\n",
    "cm = confusion_matrix(y_test, y_pred)\n",
    "plt.figure(figsize = (10,7))\n",
    "sn.heatmap(cm, annot=True, fmt='d').set(title='TFID and Multinomial')\n",
    "plt.xlabel('Prediction')\n",
    "plt.ylabel('Truth')\n",
    "plt.show()"
   ]
  },
  {
   "cell_type": "markdown",
   "metadata": {},
   "source": [
    "## Using TF-IDF CountVectorizer and Random Forest classifier"
   ]
  },
  {
   "cell_type": "code",
   "execution_count": 40,
   "metadata": {},
   "outputs": [
    {
     "name": "stdout",
     "output_type": "stream",
     "text": [
      "              precision    recall  f1-score   support\n",
      "\n",
      "         ham       0.99      0.98      0.99      4117\n",
      "        spam       0.98      0.99      0.99      4312\n",
      "\n",
      "    accuracy                           0.99      8429\n",
      "   macro avg       0.99      0.99      0.99      8429\n",
      "weighted avg       0.99      0.99      0.99      8429\n",
      "\n"
     ]
    },
    {
     "data": {
      "image/png": "[encoded data removed]",
      "text/plain": [
       "<Figure size 1000x700 with 2 Axes>"
      ]
     },
     "metadata": {},
     "output_type": "display_data"
    }
   ],
   "source": [
    "RF_classifier = Pipeline([\n",
    "    ('vectorizer_tfidf', TfidfVectorizer()),\n",
    "    ('Random Forest', RandomForestClassifier()) \n",
    "])\n",
    "\n",
    "\n",
    "RF_classifier.fit(X_train, y_train)\n",
    "RF_classifier.score(X_test, y_test)\n",
    "y_pred=RF_classifier.predict(X_test)\n",
    "\n",
    "print(classification_report(y_test, y_pred, target_names=['ham','spam']))\n",
    "\n",
    "cm = confusion_matrix(y_test, y_pred)\n",
    "plt.figure(figsize = (10,7))\n",
    "sn.heatmap(cm, annot=True, fmt='d').set(title='TFIDF and RandomForest')\n",
    "plt.xlabel('Prediction')\n",
    "plt.ylabel('Truth')\n",
    "plt.show()"
   ]
  },
  {
   "cell_type": "code",
   "execution_count": 33,
   "metadata": {},
   "outputs": [],
   "source": [
    "emails[\"vector\"] = emails[\"message_preprocessed\"].apply(lambda text: nlp(text).vector)"
   ]
  },
  {
   "cell_type": "code",
   "execution_count": 34,
   "metadata": {},
   "outputs": [
    {
     "data": {
      "text/html": [
       "<div>\n",
       "<style scoped>\n",
       "    .dataframe tbody tr th:only-of-type {\n",
       "        vertical-align: middle;\n",
       "    }\n",
       "\n",
       "    .dataframe tbody tr th {\n",
       "        vertical-align: top;\n",
       "    }\n",
       "\n",
       "    .dataframe thead th {\n",
       "        text-align: right;\n",
       "    }\n",
       "</style>\n",
       "<table border=\"1\" class=\"dataframe\">\n",
       "  <thead>\n",
       "    <tr style=\"text-align: right;\">\n",
       "      <th></th>\n",
       "      <th>spam</th>\n",
       "      <th>category</th>\n",
       "      <th>message</th>\n",
       "      <th>message_preprocessed</th>\n",
       "      <th>vector</th>\n",
       "    </tr>\n",
       "  </thead>\n",
       "  <tbody>\n",
       "    <tr>\n",
       "      <th>0</th>\n",
       "      <td>1.0</td>\n",
       "      <td>spam</td>\n",
       "      <td>b'Subject: happened mlcros 0 ft , symanntec , ...</td>\n",
       "      <td>subject happen mlcros 0 ft symanntec macromedi...</td>\n",
       "      <td>[-0.93643135, -0.72902673, -2.809265, 0.397983...</td>\n",
       "    </tr>\n",
       "    <tr>\n",
       "      <th>1</th>\n",
       "      <td>1.0</td>\n",
       "      <td>spam</td>\n",
       "      <td>b\"Subject: hot sale on all win xp products at ...</td>\n",
       "      <td>subject hot sale win xp product ellen s softsh...</td>\n",
       "      <td>[-0.8308051, -2.2618515, -1.1251718, 1.477813,...</td>\n",
       "    </tr>\n",
       "    <tr>\n",
       "      <th>2</th>\n",
       "      <td>1.0</td>\n",
       "      <td>spam</td>\n",
       "      <td>b'Subject: gasms for men\\r\\n\" my girlfriend an...</td>\n",
       "      <td>subject gasm man girlfriend enjoy make homemad...</td>\n",
       "      <td>[-0.6068439, 0.22185293, -2.5021734, -0.984214...</td>\n",
       "    </tr>\n",
       "    <tr>\n",
       "      <th>3</th>\n",
       "      <td>0.0</td>\n",
       "      <td>ham</td>\n",
       "      <td>b'Subject: re : eog pronghorn location\\r\\nto a...</td>\n",
       "      <td>subject eog pronghorn location aggressive c pe...</td>\n",
       "      <td>[-0.91404605, -0.13957796, -1.8296554, -0.3845...</td>\n",
       "    </tr>\n",
       "    <tr>\n",
       "      <th>4</th>\n",
       "      <td>0.0</td>\n",
       "      <td>ham</td>\n",
       "      <td>b\"Subject: transwestern capacity release repor...</td>\n",
       "      <td>subject transwestern capacity release report p...</td>\n",
       "      <td>[-0.36561504, -1.360887, -0.4424557, 1.2195764...</td>\n",
       "    </tr>\n",
       "  </tbody>\n",
       "</table>\n",
       "</div>"
      ],
      "text/plain": [
       "   spam category                                            message  \\\n",
       "0   1.0     spam  b'Subject: happened mlcros 0 ft , symanntec , ...   \n",
       "1   1.0     spam  b\"Subject: hot sale on all win xp products at ...   \n",
       "2   1.0     spam  b'Subject: gasms for men\\r\\n\" my girlfriend an...   \n",
       "3   0.0      ham  b'Subject: re : eog pronghorn location\\r\\nto a...   \n",
       "4   0.0      ham  b\"Subject: transwestern capacity release repor...   \n",
       "\n",
       "                                message_preprocessed  \\\n",
       "0  subject happen mlcros 0 ft symanntec macromedi...   \n",
       "1  subject hot sale win xp product ellen s softsh...   \n",
       "2  subject gasm man girlfriend enjoy make homemad...   \n",
       "3  subject eog pronghorn location aggressive c pe...   \n",
       "4  subject transwestern capacity release report p...   \n",
       "\n",
       "                                              vector  \n",
       "0  [-0.93643135, -0.72902673, -2.809265, 0.397983...  \n",
       "1  [-0.8308051, -2.2618515, -1.1251718, 1.477813,...  \n",
       "2  [-0.6068439, 0.22185293, -2.5021734, -0.984214...  \n",
       "3  [-0.91404605, -0.13957796, -1.8296554, -0.3845...  \n",
       "4  [-0.36561504, -1.360887, -0.4424557, 1.2195764...  "
      ]
     },
     "execution_count": 34,
     "metadata": {},
     "output_type": "execute_result"
    }
   ],
   "source": [
    "emails.head()"
   ]
  },
  {
   "cell_type": "code",
   "execution_count": 35,
   "metadata": {},
   "outputs": [],
   "source": [
    "X_train, X_test, y_train, y_test = train_test_split(\n",
    "    emails[\"vector\"].values,\n",
    "    emails[\"spam\"],\n",
    "    test_size=0.25,\n",
    "    random_state=2022,\n",
    ")\n",
    "\n",
    "X_train_2d = np.stack(X_train)\n",
    "X_test_2d = np.stack(X_test)"
   ]
  },
  {
   "cell_type": "code",
   "execution_count": 36,
   "metadata": {},
   "outputs": [
    {
     "name": "stdout",
     "output_type": "stream",
     "text": [
      "              precision    recall  f1-score   support\n",
      "\n",
      "         ham       0.81      0.66      0.73      4117\n",
      "        spam       0.73      0.85      0.78      4312\n",
      "\n",
      "    accuracy                           0.76      8429\n",
      "   macro avg       0.77      0.76      0.75      8429\n",
      "weighted avg       0.76      0.76      0.76      8429\n",
      "\n"
     ]
    },
    {
     "data": {
      "image/png": "[encoded data removed]",
      "text/plain": [
       "<Figure size 1000x700 with 2 Axes>"
      ]
     },
     "metadata": {},
     "output_type": "display_data"
    }
   ],
   "source": [
    "scaler = MinMaxScaler()\n",
    "scaled_train_embed = scaler.fit_transform(X_train_2d)\n",
    "scaled_test_embed = scaler.transform(X_test_2d)\n",
    "\n",
    "clf = MultinomialNB()\n",
    "clf.fit(scaled_train_embed,y_train)\n",
    "y_pred=clf.predict(scaled_test_embed)\n",
    "print(classification_report(y_test, y_pred, target_names=['ham','spam']))\n",
    "\n",
    "cm = confusion_matrix(y_test, y_pred)\n",
    "plt.figure(figsize = (10,7))\n",
    "sn.heatmap(cm, annot=True, fmt='d').set(title='Word embedding and Multinomial')\n",
    "plt.xlabel('Prediction')\n",
    "plt.ylabel('Truth')\n",
    "plt.show()"
   ]
  },
  {
   "cell_type": "code",
   "execution_count": 37,
   "metadata": {},
   "outputs": [
    {
     "name": "stdout",
     "output_type": "stream",
     "text": [
      "              precision    recall  f1-score   support\n",
      "\n",
      "         ham       0.95      0.94      0.94      4117\n",
      "        spam       0.94      0.95      0.95      4312\n",
      "\n",
      "    accuracy                           0.94      8429\n",
      "   macro avg       0.94      0.94      0.94      8429\n",
      "weighted avg       0.94      0.94      0.94      8429\n",
      "\n"
     ]
    },
    {
     "data": {
      "image/png": "[encoded data removed]",
      "text/plain": [
       "<Figure size 1000x700 with 2 Axes>"
      ]
     },
     "metadata": {},
     "output_type": "display_data"
    }
   ],
   "source": [
    "from sklearn.neighbors import KNeighborsClassifier\n",
    "\n",
    "clf = KNeighborsClassifier(n_neighbors = 5, metric = 'euclidean')\n",
    "clf.fit(X_train_2d, y_train)\n",
    "\n",
    "y_pred = clf.predict(X_test_2d)\n",
    "print(classification_report(y_test, y_pred, target_names=['ham','spam']))\n",
    "\n",
    "cm = confusion_matrix(y_test, y_pred)\n",
    "plt.figure(figsize = (10,7))\n",
    "sn.heatmap(cm, annot=True, fmt='d').set(title='Word embedding and KNN')\n",
    "plt.xlabel('Prediction')\n",
    "plt.ylabel('Truth')\n",
    "plt.show()"
   ]
  },
  {
   "cell_type": "code",
   "execution_count": 38,
   "metadata": {},
   "outputs": [
    {
     "name": "stdout",
     "output_type": "stream",
     "text": [
      "Directory already exists\n",
      "[Errno 17] File exists: '/root/raw_data/data/train'\n",
      "Writing training data set with: 25287 emails \n",
      "Writing validation data set with: 8429 emails \n",
      "Writing test data set with: 8429 emails \n"
     ]
    }
   ],
   "source": [
    "X_train, X_test, y_train, y_test = train_test_split(\n",
    "    emails[\"message_preprocessed\"],\n",
    "    emails[\"spam\"], \n",
    "    test_size=0.25,\n",
    "    random_state=2022\n",
    ")\n",
    "\n",
    "base_path = \"/root/raw_data/data/\"\n",
    "\n",
    "try:\n",
    "    Path(base_path+\"train\").mkdir(parents=True, exist_ok=False)\n",
    "    Path(base_path+\"validation\").mkdir(parents=True, exist_ok=False)\n",
    "    Path(base_path+\"test\").mkdir(parents=True, exist_ok=False)\n",
    "except FileExistsError as fee:\n",
    "    print(\"Directory already exists\")\n",
    "    print(fee)\n",
    "    \n",
    "print(f\"Writing training data set with: {X_train.shape[0]} emails \")\n",
    "pd.DataFrame(X_train).to_csv(str(Path(base_path+'/train/train.csv').absolute()), header=False, index=False)\n",
    "\n",
    "print(f\"Writing validation data set with: {X_test.shape[0]} emails \")\n",
    "pd.DataFrame(X_test).to_csv(str(Path(base_path+'/validation/validation.csv').absolute()), header=False, index=False)\n",
    "\n",
    "print(f\"Writing test data set with: {y_test.shape[0]} emails \")\n",
    "pd.DataFrame(y_test).to_csv(str(Path(base_path+'/test/test.csv').absolute()), header=False, index=False)"
   ]
  },
  {
   "cell_type": "code",
   "execution_count": null,
   "metadata": {},
   "outputs": [],
   "source": [
    "\n"
   ]
  },
  {
   "cell_type": "code",
   "execution_count": 39,
   "metadata": {},
   "outputs": [
    {
     "data": {
      "text/plain": [
       "(33716, 5)"
      ]
     },
     "execution_count": 39,
     "metadata": {},
     "output_type": "execute_result"
    }
   ],
   "source": [
    "emails.shape"
   ]
  }
 ],
 "metadata": {
  "instance_type": "ml.m5.2xlarge",
  "kernelspec": {
   "display_name": "Python 3 (Data Science)",
   "language": "python",
   "name": "python3__SAGEMAKER_INTERNAL__arn:aws:sagemaker:us-east-1:081325390199:image/datascience-1.0"
  },
  "language_info": {
   "codemirror_mode": {
    "name": "ipython",
    "version": 3
   },
   "file_extension": ".py",
   "mimetype": "text/x-python",
   "name": "python",
   "nbconvert_exporter": "python",
   "pygments_lexer": "ipython3",
   "version": "3.7.10"
  }
 },
 "nbformat": 4,
 "nbformat_minor": 4
}
