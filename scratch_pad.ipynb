{
 "cells": [
  {
   "cell_type": "code",
   "execution_count": 5,
   "metadata": {},
   "outputs": [
    {
     "name": "stdout",
     "output_type": "stream",
     "text": [
      "[{'label': ['__label__1.0'], 'prob': [0.7533435225486755]}, {'label': ['__label__0.0'], 'prob': [0.5403555631637573]}]\n"
     ]
    }
   ],
   "source": [
    "import json\n",
    "import pandas as pd\n",
    "import boto3\n",
    "\n",
    "# from sklearn.metrics import classification_report\n",
    "# from sklearn.metrics import confusion_matrix\n",
    "# from matplotlib import pyplot as plt\n",
    "# import seaborn as sn\n",
    "endpoint_name = \"blazingtext-2022-10-26-23-32-03-964\"\n",
    "sagemaker_client = boto3.client(\"sagemaker-runtime\")\n",
    "\n",
    "email1 = \"Broadband providers are cracking down on popular Wi-Fi networks, threatening to cut service to customers who set up the inexpensive wireless systems and allow others to freely tap into their Internet access. Time Warner Cable of New York City has given 10 customers less than a week to stop using their accounts to provide a wireless local area network available to anyone within 300 feet. The letters are just an initial volley; Time Warner expects to send additional letters, while AT&T Broadband also is preparing similar letters for some of its customers.\"\n",
    "email2= \"Windows users have recently been given access to the popular Macintosh music player, iPod, and now Linux users may soon be able to take a bite out of Apple Computer's gadget. Last week, tex9, a small software-development company in San Francisco, began beta testing an iPod plug-in for its xtunes music player software, which is itself a Linux clone of Apple's iTunes. The plug-in will, tex9 promises, allow drag-and-drop access to iPod, which holds up to 10GB of music.\"\n",
    "\n",
    "test_emails = []\n",
    "test_emails.append(email1)\n",
    "test_emails.append(email2)\n",
    "\n",
    "payload = {\"instances\" : test_emails}\n",
    "\n",
    "predection_response = sagemaker_client.invoke_endpoint(EndpointName=endpoint_name,Body=json.dumps(payload), ContentType='application/json')\n",
    "\n",
    "#Convert response to dataframe\n",
    "predection_response_body = predection_response['Body'].read().decode('utf-8')\n",
    "predection_response_body_raw = json.loads(predection_response_body)\n",
    "print(predection_response_body_raw)\n"
   ]
  },
  {
   "cell_type": "code",
   "execution_count": null,
   "metadata": {},
   "outputs": [],
   "source": []
  }
 ],
 "metadata": {
  "instance_type": "ml.t3.medium",
  "kernelspec": {
   "display_name": "Python 3 (Data Science)",
   "language": "python",
   "name": "python3__SAGEMAKER_INTERNAL__arn:aws:sagemaker:us-east-1:081325390199:image/datascience-1.0"
  },
  "language_info": {
   "codemirror_mode": {
    "name": "ipython",
    "version": 3
   },
   "file_extension": ".py",
   "mimetype": "text/x-python",
   "name": "python",
   "nbconvert_exporter": "python",
   "pygments_lexer": "ipython3",
   "version": "3.7.10"
  }
 },
 "nbformat": 4,
 "nbformat_minor": 4
}
