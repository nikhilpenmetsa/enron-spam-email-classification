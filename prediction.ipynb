{
 "cells": [
  {
   "cell_type": "markdown",
   "metadata": {},
   "source": [
    "# Prediction and performance metrics\n",
    "## Notebook for running predictions"
   ]
  },
  {
   "cell_type": "code",
   "execution_count": 80,
   "metadata": {},
   "outputs": [],
   "source": [
    "import json\n",
    "import pandas as pd\n",
    "import boto3\n",
    "\n",
    "from sklearn.metrics import classification_report\n",
    "from sklearn.metrics import confusion_matrix\n",
    "from matplotlib import pyplot as plt\n",
    "import seaborn as sn"
   ]
  },
  {
   "cell_type": "code",
   "execution_count": 81,
   "metadata": {},
   "outputs": [
    {
     "name": "stdout",
     "output_type": "stream",
     "text": [
      "Successful S3 get_object response. Status - 200\n"
     ]
    },
    {
     "data": {
      "text/html": [
       "<div>\n",
       "<style scoped>\n",
       "    .dataframe tbody tr th:only-of-type {\n",
       "        vertical-align: middle;\n",
       "    }\n",
       "\n",
       "    .dataframe tbody tr th {\n",
       "        vertical-align: top;\n",
       "    }\n",
       "\n",
       "    .dataframe thead th {\n",
       "        text-align: right;\n",
       "    }\n",
       "</style>\n",
       "<table border=\"1\" class=\"dataframe\">\n",
       "  <thead>\n",
       "    <tr style=\"text-align: right;\">\n",
       "      <th></th>\n",
       "      <th>test.message_bzt</th>\n",
       "      <th>test.spam_label</th>\n",
       "      <th>test.message</th>\n",
       "    </tr>\n",
       "  </thead>\n",
       "  <tbody>\n",
       "    <tr>\n",
       "      <th>0</th>\n",
       "      <td>__label__1.0 subject 79 hfi pharmaaccy hello t...</td>\n",
       "      <td>1.0</td>\n",
       "      <td>79 hfi pharmaaccy hello try pharrmabymail shop...</td>\n",
       "    </tr>\n",
       "    <tr>\n",
       "      <th>1</th>\n",
       "      <td>__label__0.0 subject request amendment oneok e...</td>\n",
       "      <td>0.0</td>\n",
       "      <td>request amendment oneok energy marketing tradi...</td>\n",
       "    </tr>\n",
       "    <tr>\n",
       "      <th>2</th>\n",
       "      <td>__label__1.0 subject gouranga gouranga happy g...</td>\n",
       "      <td>1.0</td>\n",
       "      <td>gouranga gouranga happy gouranga gouranga gour...</td>\n",
       "    </tr>\n",
       "    <tr>\n",
       "      <th>3</th>\n",
       "      <td>__label__1.0 subject cla ` ll | | s iev ` iltr...</td>\n",
       "      <td>1.0</td>\n",
       "      <td>cla ` ll | | s iev ` iltra l ant | | mpo 0 ten...</td>\n",
       "    </tr>\n",
       "    <tr>\n",
       "      <th>4</th>\n",
       "      <td>__label__1.0 subject www mediccation hello wel...</td>\n",
       "      <td>1.0</td>\n",
       "      <td>www mediccation hello welcome good online stor...</td>\n",
       "    </tr>\n",
       "  </tbody>\n",
       "</table>\n",
       "</div>"
      ],
      "text/plain": [
       "                                    test.message_bzt test.spam_label  \\\n",
       "0  __label__1.0 subject 79 hfi pharmaaccy hello t...             1.0   \n",
       "1  __label__0.0 subject request amendment oneok e...             0.0   \n",
       "2  __label__1.0 subject gouranga gouranga happy g...             1.0   \n",
       "3  __label__1.0 subject cla ` ll | | s iev ` iltr...             1.0   \n",
       "4  __label__1.0 subject www mediccation hello wel...             1.0   \n",
       "\n",
       "                                        test.message  \n",
       "0  79 hfi pharmaaccy hello try pharrmabymail shop...  \n",
       "1  request amendment oneok energy marketing tradi...  \n",
       "2  gouranga gouranga happy gouranga gouranga gour...  \n",
       "3  cla ` ll | | s iev ` iltra l ant | | mpo 0 ten...  \n",
       "4  www mediccation hello welcome good online stor...  "
      ]
     },
     "execution_count": 81,
     "metadata": {},
     "output_type": "execute_result"
    }
   ],
   "source": [
    "sagemaker_client = boto3.client(\"sagemaker-runtime\")\n",
    "s3_client = boto3.client('s3', region_name=boto3.Session().region_name)\n",
    "\n",
    "#to fix - hardcoded\n",
    "proj_bucket = \"nikhil-spam-ham\"\n",
    "endpoint_name = \"blazingtext-2022-10-26-23-32-03-964\"\n",
    "\n",
    "\n",
    "response = s3_client.get_object(Bucket=proj_bucket, Key=\"test/test.csv\")\n",
    "status = response.get(\"ResponseMetadata\", {}).get(\"HTTPStatusCode\")\n",
    "\n",
    "if status == 200:\n",
    "    print(f\"Successful S3 get_object response. Status - {status}\")\n",
    "    test_emails = pd.read_csv(response.get(\"Body\"), header=None)\n",
    "    test_emails.columns = ['test.message_bzt']\n",
    "else:\n",
    "    print(f\"Unsuccessful S3 get_object response. Status - {status}\")\n",
    "\n",
    "#test_emails=test_emails.head(10)\n",
    "#Spliting test messages to remove blazing text label prefix\n",
    "temp_df = test_emails[\"test.message_bzt\"].str.split(\".0 subject \", n = 1, expand = True)\n",
    "\n",
    "test_emails[\"test.spam_label\"] = temp_df[0].apply(lambda x: (x[9:12] + \".0\"))\n",
    "test_emails[\"test.message\"] = temp_df[1]\n",
    "test_emails.head()"
   ]
  },
  {
   "cell_type": "code",
   "execution_count": 82,
   "metadata": {},
   "outputs": [
    {
     "data": {
      "text/html": [
       "<div>\n",
       "<style scoped>\n",
       "    .dataframe tbody tr th:only-of-type {\n",
       "        vertical-align: middle;\n",
       "    }\n",
       "\n",
       "    .dataframe tbody tr th {\n",
       "        vertical-align: top;\n",
       "    }\n",
       "\n",
       "    .dataframe thead th {\n",
       "        text-align: right;\n",
       "    }\n",
       "</style>\n",
       "<table border=\"1\" class=\"dataframe\">\n",
       "  <thead>\n",
       "    <tr style=\"text-align: right;\">\n",
       "      <th></th>\n",
       "      <th>test.spam_label</th>\n",
       "      <th>test.message</th>\n",
       "      <th>pred.spam_label</th>\n",
       "      <th>pred.message</th>\n",
       "    </tr>\n",
       "  </thead>\n",
       "  <tbody>\n",
       "    <tr>\n",
       "      <th>0</th>\n",
       "      <td>1.0</td>\n",
       "      <td>79 hfi pharmaaccy hello try pharrmabymail shop...</td>\n",
       "      <td>1.0</td>\n",
       "      <td>79 hfi pharmaaccy hello try pharrmabymail shop...</td>\n",
       "    </tr>\n",
       "    <tr>\n",
       "      <th>1</th>\n",
       "      <td>0.0</td>\n",
       "      <td>request amendment oneok energy marketing tradi...</td>\n",
       "      <td>0.0</td>\n",
       "      <td>request amendment oneok energy marketing tradi...</td>\n",
       "    </tr>\n",
       "    <tr>\n",
       "      <th>2</th>\n",
       "      <td>1.0</td>\n",
       "      <td>gouranga gouranga happy gouranga gouranga gour...</td>\n",
       "      <td>1.0</td>\n",
       "      <td>gouranga gouranga happy gouranga gouranga gour...</td>\n",
       "    </tr>\n",
       "    <tr>\n",
       "      <th>3</th>\n",
       "      <td>1.0</td>\n",
       "      <td>cla ` ll | | s iev ` iltra l ant | | mpo 0 ten...</td>\n",
       "      <td>1.0</td>\n",
       "      <td>cla ` ll | | s iev ` iltra l ant | | mpo 0 ten...</td>\n",
       "    </tr>\n",
       "    <tr>\n",
       "      <th>4</th>\n",
       "      <td>1.0</td>\n",
       "      <td>www mediccation hello welcome good online stor...</td>\n",
       "      <td>1.0</td>\n",
       "      <td>www mediccation hello welcome good online stor...</td>\n",
       "    </tr>\n",
       "  </tbody>\n",
       "</table>\n",
       "</div>"
      ],
      "text/plain": [
       "  test.spam_label                                       test.message  \\\n",
       "0             1.0  79 hfi pharmaaccy hello try pharrmabymail shop...   \n",
       "1             0.0  request amendment oneok energy marketing tradi...   \n",
       "2             1.0  gouranga gouranga happy gouranga gouranga gour...   \n",
       "3             1.0  cla ` ll | | s iev ` iltra l ant | | mpo 0 ten...   \n",
       "4             1.0  www mediccation hello welcome good online stor...   \n",
       "\n",
       "  pred.spam_label                                       pred.message  \n",
       "0             1.0  79 hfi pharmaaccy hello try pharrmabymail shop...  \n",
       "1             0.0  request amendment oneok energy marketing tradi...  \n",
       "2             1.0  gouranga gouranga happy gouranga gouranga gour...  \n",
       "3             1.0  cla ` ll | | s iev ` iltra l ant | | mpo 0 ten...  \n",
       "4             1.0  www mediccation hello welcome good online stor...  "
      ]
     },
     "execution_count": 82,
     "metadata": {},
     "output_type": "execute_result"
    }
   ],
   "source": [
    "#send payload to endpoint\n",
    "payload = {\"instances\" : test_emails['test.message'].to_numpy().tolist() }\n",
    "\n",
    "predection_response = sagemaker_client.invoke_endpoint(EndpointName=endpoint_name,Body=json.dumps(payload), ContentType='application/json')\n",
    "\n",
    "#Convert response to dataframe\n",
    "predection_response_body = predection_response['Body'].read().decode('utf-8')\n",
    "predection_response_body_raw = json.loads(predection_response_body)\n",
    "request_and_prediction = list(zip(payload['instances'],predection_response_body_raw))\n",
    "request_and_prediction_df = pd.DataFrame(request_and_prediction, columns = ['pred.message','pred.prediction_raw'])\n",
    "\n",
    "#concatinate test and prediction datasets on columns to compare\n",
    "temp_df = pd.json_normalize(predection_response_body_raw)\n",
    "pretty_request_and_prediction_df = pd.concat([request_and_prediction_df, df2, test_emails], axis=1)\n",
    "pretty_request_and_prediction_df['pred.spam_label'] = pretty_request_and_prediction_df['label'].apply(lambda x: x[0][9:12])\n",
    "\n",
    "#Dropping columns\n",
    "#'pred.message','pred.prediction_raw','label','prob','testmessage_bzt','test.spam_label','test.message','pred.spam_label'\n",
    "pretty_request_and_prediction_df = pretty_request_and_prediction_df[['test.spam_label','test.message','pred.spam_label','pred.message']]\n",
    "pretty_request_and_prediction_df.head()\n"
   ]
  },
  {
   "cell_type": "code",
   "execution_count": 83,
   "metadata": {},
   "outputs": [
    {
     "name": "stdout",
     "output_type": "stream",
     "text": [
      "              precision    recall  f1-score   support\n",
      "\n",
      "         ham       0.98      0.96      0.97       854\n",
      "        spam       0.99      0.99      0.99      2518\n",
      "\n",
      "    accuracy                           0.99      3372\n",
      "   macro avg       0.99      0.98      0.98      3372\n",
      "weighted avg       0.99      0.99      0.99      3372\n",
      "\n"
     ]
    },
    {
     "data": {
      "image/png": "[encoded data removed]",
      "text/plain": [
       "<Figure size 1000x700 with 2 Axes>"
      ]
     },
     "metadata": {},
     "output_type": "display_data"
    }
   ],
   "source": [
    "print(classification_report(pretty_request_and_prediction_df['test.spam_label'], pretty_request_and_prediction_df['pred.spam_label'], target_names=['ham','spam']))\n",
    "\n",
    "cm = confusion_matrix(pretty_request_and_prediction_df['test.spam_label'], pretty_request_and_prediction_df['pred.spam_label'])\n",
    "plt.figure(figsize = (10,7))\n",
    "sn.heatmap(cm, annot=True, fmt='d').set(title='Spam prediction confusion matrix')\n",
    "plt.xlabel('Prediction')\n",
    "plt.ylabel('Truth')\n",
    "plt.show()"
   ]
  }
 ],
 "metadata": {
  "instance_type": "ml.t3.medium",
  "kernelspec": {
   "display_name": "Python 3 (Data Science)",
   "language": "python",
   "name": "python3__SAGEMAKER_INTERNAL__arn:aws:sagemaker:us-east-1:081325390199:image/datascience-1.0"
  },
  "language_info": {
   "codemirror_mode": {
    "name": "ipython",
    "version": 3
   },
   "file_extension": ".py",
   "mimetype": "text/x-python",
   "name": "python",
   "nbconvert_exporter": "python",
   "pygments_lexer": "ipython3",
   "version": "3.7.10"
  }
 },
 "nbformat": 4,
 "nbformat_minor": 4
}
